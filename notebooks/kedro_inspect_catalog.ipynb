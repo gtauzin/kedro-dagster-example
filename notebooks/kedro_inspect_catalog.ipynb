{
 "cells": [
  {
   "cell_type": "code",
   "execution_count": null,
   "id": "7fb27b941602401d91542211134fc71a",
   "metadata": {},
   "outputs": [],
   "source": [
    "# See https://docs.kedro.org/en/stable/notebooks_and_ipython/kedro_and_notebooks.html\n",
    "%load_ext kedro.ipython"
   ]
  },
  {
   "cell_type": "code",
   "execution_count": null,
   "id": "acae54e37e7d407bbb7b55eff062a284",
   "metadata": {},
   "outputs": [],
   "source": [
    "catalog.list()"
   ]
  },
  {
   "cell_type": "code",
   "execution_count": null,
   "id": "29a51e58",
   "metadata": {},
   "outputs": [],
   "source": [
    "companies = catalog.load(\"companies\")\n",
    "companies"
   ]
  },
  {
   "cell_type": "code",
   "execution_count": null,
   "id": "42e8187b",
   "metadata": {},
   "outputs": [],
   "source": [
    "reviews = catalog.load(\"reviews\")\n",
    "reviews"
   ]
  },
  {
   "cell_type": "code",
   "execution_count": null,
   "id": "d99cb19a",
   "metadata": {},
   "outputs": [],
   "source": [
    "shuttles = catalog.load(\"shuttles\")\n",
    "shuttles"
   ]
  },
  {
   "cell_type": "code",
   "execution_count": null,
   "id": "8d4d3134",
   "metadata": {},
   "outputs": [],
   "source": [
    "n = len(shuttles) // 3\n",
    "n, shuttles.shape, companies.shape, reviews.shape"
   ]
  },
  {
   "cell_type": "code",
   "execution_count": null,
   "id": "8f00e3d0",
   "metadata": {},
   "outputs": [],
   "source": [
    "shuttles_1 = shuttles.iloc[:n]\n",
    "reviews_1 = reviews.loc[reviews[\"shuttle_id\"].isin(shuttles_1[\"id\"])]\n",
    "companies_1 = companies.loc[companies[\"id\"].isin(shuttles_1[\"company_id\"])]"
   ]
  },
  {
   "cell_type": "code",
   "execution_count": null,
   "id": "146ee763",
   "metadata": {},
   "outputs": [],
   "source": [
    "shuttles_2 = shuttles.iloc[n : 2 * n]\n",
    "reviews_2 = reviews.loc[reviews[\"shuttle_id\"].isin(shuttles_2[\"id\"])]\n",
    "companies_2 = companies.loc[companies[\"id\"].isin(shuttles_2[\"company_id\"])]"
   ]
  },
  {
   "cell_type": "code",
   "execution_count": null,
   "id": "934e3ba5",
   "metadata": {},
   "outputs": [],
   "source": [
    "shuttles_3 = shuttles.iloc[2 * n :]\n",
    "reviews_3 = reviews.loc[reviews[\"shuttle_id\"].isin(shuttles_3[\"id\"])]\n",
    "companies_3 = companies.loc[companies[\"id\"].isin(shuttles_3[\"company_id\"])]"
   ]
  },
  {
   "cell_type": "code",
   "execution_count": null,
   "id": "04380364",
   "metadata": {},
   "outputs": [],
   "source": [
    "shuttles_1.to_csv(\"../data/01_raw/shuttles_1.csv\")\n",
    "shuttles_2.to_csv(\"../data/01_raw/shuttles_2.csv\")\n",
    "shuttles_3.to_csv(\"../data/01_raw/shuttles_3.csv\")"
   ]
  },
  {
   "cell_type": "code",
   "execution_count": null,
   "id": "6a3f467c",
   "metadata": {},
   "outputs": [],
   "source": [
    "companies_1.to_csv(\"../data/01_raw/companies_1.csv\")\n",
    "companies_2.to_csv(\"../data/01_raw/companies_2.csv\")\n",
    "companies_3.to_csv(\"../data/01_raw/companies_3.csv\")"
   ]
  },
  {
   "cell_type": "code",
   "execution_count": null,
   "id": "3b40d83c",
   "metadata": {},
   "outputs": [],
   "source": [
    "reviews_1.to_csv(\"../data/01_raw/reviews_1.csv\")\n",
    "reviews_2.to_csv(\"../data/01_raw/reviews_2.csv\")\n",
    "reviews_3.to_csv(\"../data/01_raw/reviews_3.csv\")"
   ]
  }
 ],
 "metadata": {
  "kernelspec": {
   "display_name": ".venv",
   "language": "python",
   "name": "python3"
  },
  "language_info": {
   "codemirror_mode": {
    "name": "ipython",
    "version": 3
   },
   "file_extension": ".py",
   "mimetype": "text/x-python",
   "name": "python",
   "nbconvert_exporter": "python",
   "pygments_lexer": "ipython3",
   "version": "3.12.7"
  }
 },
 "nbformat": 4,
 "nbformat_minor": 5
}
